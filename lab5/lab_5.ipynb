{
 "cells": [
  {
   "cell_type": "code",
   "execution_count": 1,
   "metadata": {},
   "outputs": [
    {
     "ename": "AssertionError",
     "evalue": "число має бути більшим за нуль!",
     "output_type": "error",
     "traceback": [
      "\u001b[1;31m---------------------------------------------------------------------------\u001b[0m",
      "\u001b[1;31mAssertionError\u001b[0m                            Traceback (most recent call last)",
      "Cell \u001b[1;32mIn [1], line 2\u001b[0m\n\u001b[0;32m      1\u001b[0m number \u001b[39m=\u001b[39m \u001b[39m-\u001b[39m\u001b[39m1\u001b[39m\n\u001b[1;32m----> 2\u001b[0m \u001b[39massert\u001b[39;00m number \u001b[39m>\u001b[39m \u001b[39m0\u001b[39m, \u001b[39m\"\u001b[39m\u001b[39mчисло має бути більшим за нуль!\u001b[39m\u001b[39m\"\u001b[39m\n",
      "\u001b[1;31mAssertionError\u001b[0m: число має бути більшим за нуль!"
     ]
    }
   ],
   "source": [
    "number = -1\n",
    "assert number > 0, \"число має бути більшим за нуль!\""
   ]
  },
  {
   "cell_type": "code",
   "execution_count": 1,
   "metadata": {},
   "outputs": [
    {
     "name": "stdout",
     "output_type": "stream",
     "text": [
      "введене число: 14\n"
     ]
    }
   ],
   "source": [
    "a = input(\"Введіть число: \")\n",
    "assert a.isdigit(), \"Потрібно ввести число!\"\n",
    "print(f\"введене число: {a}\")"
   ]
  },
  {
   "cell_type": "code",
   "execution_count": 4,
   "metadata": {},
   "outputs": [
    {
     "ename": "AssertionError",
     "evalue": "Потрібно ввести число!",
     "output_type": "error",
     "traceback": [
      "\u001b[1;31m---------------------------------------------------------------------------\u001b[0m",
      "\u001b[1;31mAssertionError\u001b[0m                            Traceback (most recent call last)",
      "Cell \u001b[1;32mIn [4], line 2\u001b[0m\n\u001b[0;32m      1\u001b[0m a \u001b[39m=\u001b[39m \u001b[39minput\u001b[39m(\u001b[39m\"\u001b[39m\u001b[39mВведіть число: \u001b[39m\u001b[39m\"\u001b[39m)\n\u001b[1;32m----> 2\u001b[0m \u001b[39massert\u001b[39;00m a\u001b[39m.\u001b[39misdigit(), \u001b[39m\"\u001b[39m\u001b[39mПотрібно ввести число!\u001b[39m\u001b[39m\"\u001b[39m\n\u001b[0;32m      3\u001b[0m \u001b[39mprint\u001b[39m(\u001b[39mf\u001b[39m\u001b[39m\"\u001b[39m\u001b[39mвведене число: \u001b[39m\u001b[39m{\u001b[39;00ma\u001b[39m}\u001b[39;00m\u001b[39m\"\u001b[39m)\n",
      "\u001b[1;31mAssertionError\u001b[0m: Потрібно ввести число!"
     ]
    }
   ],
   "source": [
    "a = input(\"Введіть число: \")\n",
    "assert a.isdigit(), \"Потрібно ввести число!\"\n",
    "print(f\"введене число: {a}\")"
   ]
  },
  {
   "cell_type": "code",
   "execution_count": 4,
   "metadata": {},
   "outputs": [],
   "source": [
    "class Figure:\n",
    "    def __init__(self, type, length) -> None:\n",
    "        assert length > 0, \"Довжина має бути більшою за 0!\"\n",
    "        assert type in [\"квадрат\", \"прямокутник\", \"трикутник\"], \"Дозволені фігури: квадрат, прямокутник, трикутник\"\n",
    "        self.type = type\n",
    "        self.length = length\n",
    "\n",
    "#a = Figure(\"трапеція\", 12)\n",
    "#b = Figure(\"квадрат\", 0)\n",
    "c = Figure(\"квадрат\", 1)"
   ]
  },
  {
   "cell_type": "code",
   "execution_count": 1,
   "metadata": {},
   "outputs": [
    {
     "name": "stdout",
     "output_type": "stream",
     "text": [
      "трикутник 16\n",
      "квадрат 5\n",
      "прямокутник 2\n"
     ]
    }
   ],
   "source": [
    "class Figure:\n",
    "        def __init__(self, type, length) -> None:\n",
    "            assert length > 0, \"Довжина має бути більшою за 0!\"\n",
    "            assert type in [\"квадрат\", \"прямокутник\", \"трикутник\"], \"Дозволені фігури: квадрат, прямокутник, трикутник\"\n",
    "            self.type = type\n",
    "            self.length = length\n",
    "\n",
    "a = Figure(\"трикутник\", 16)\n",
    "print(a.type, a.length)\n",
    "b = Figure(\"квадрат\", 5)\n",
    "print(b.type, b.length)\n",
    "c = Figure(\"прямокутник\", 2)\n",
    "print(c.type, c.length)"
   ]
  },
  {
   "cell_type": "code",
   "execution_count": 2,
   "metadata": {},
   "outputs": [
    {
     "name": "stdout",
     "output_type": "stream",
     "text": [
      "Остап Хобі\n"
     ]
    },
    {
     "ename": "ValueError",
     "evalue": "Немає хобі",
     "output_type": "error",
     "traceback": [
      "\u001b[1;31m---------------------------------------------------------------------------\u001b[0m",
      "\u001b[1;31mValueError\u001b[0m                                Traceback (most recent call last)",
      "Cell \u001b[1;32mIn [2], line 12\u001b[0m\n\u001b[0;32m     10\u001b[0m a \u001b[39m=\u001b[39m Name(\u001b[39m\"\u001b[39m\u001b[39mОстап\u001b[39m\u001b[39m\"\u001b[39m, \u001b[39m\"\u001b[39m\u001b[39mХобі\u001b[39m\u001b[39m\"\u001b[39m)\n\u001b[0;32m     11\u001b[0m \u001b[39mprint\u001b[39m(a\u001b[39m.\u001b[39mname, a\u001b[39m.\u001b[39mhobby)\n\u001b[1;32m---> 12\u001b[0m b \u001b[39m=\u001b[39m Name(\u001b[39m\"\u001b[39;49m\u001b[39mОстап\u001b[39;49m\u001b[39m\"\u001b[39;49m, \u001b[39m\"\u001b[39;49m\u001b[39m\"\u001b[39;49m)\n\u001b[0;32m     13\u001b[0m \u001b[39mprint\u001b[39m(b\u001b[39m.\u001b[39mname, b\u001b[39m.\u001b[39mhobby)\n",
      "Cell \u001b[1;32mIn [2], line 6\u001b[0m, in \u001b[0;36mName.__init__\u001b[1;34m(self, name, hobby)\u001b[0m\n\u001b[0;32m      4\u001b[0m     \u001b[39mraise\u001b[39;00m \u001b[39mValueError\u001b[39;00m(\u001b[39m\"\u001b[39m\u001b[39mДозволені імена: Остап, Анонім\u001b[39m\u001b[39m\"\u001b[39m)\n\u001b[0;32m      5\u001b[0m \u001b[39mif\u001b[39;00m \u001b[39mnot\u001b[39;00m hobby:\n\u001b[1;32m----> 6\u001b[0m     \u001b[39mraise\u001b[39;00m \u001b[39mValueError\u001b[39;00m(\u001b[39m\"\u001b[39m\u001b[39mНемає хобі\u001b[39m\u001b[39m\"\u001b[39m)\n\u001b[0;32m      8\u001b[0m \u001b[39mself\u001b[39m\u001b[39m.\u001b[39mname \u001b[39m=\u001b[39m name\n\u001b[0;32m      9\u001b[0m \u001b[39mself\u001b[39m\u001b[39m.\u001b[39mhobby \u001b[39m=\u001b[39m hobby\n",
      "\u001b[1;31mValueError\u001b[0m: Немає хобі"
     ]
    }
   ],
   "source": [
    "class Name:\n",
    "    def __init__(self, name:str, hobby) -> None:\n",
    "        if name not in [\"Остап\", \"Анонім\"]:\n",
    "            raise ValueError(\"Дозволені імена: Остап, Анонім\")\n",
    "        if not hobby:\n",
    "            raise ValueError(\"Немає хобі\")\n",
    "        \n",
    "        self.name = name\n",
    "        self.hobby = hobby\n",
    "a = Name(\"Остап\", \"Хобі\")\n",
    "print(a.name, a.hobby)\n",
    "b = Name(\"Остап\", \"\")\n",
    "print(b.name, b.hobby)"
   ]
  }
 ],
 "metadata": {
  "kernelspec": {
   "display_name": "Python 3.10.8 ('my_env': venv)",
   "language": "python",
   "name": "python3"
  },
  "language_info": {
   "codemirror_mode": {
    "name": "ipython",
    "version": 3
   },
   "file_extension": ".py",
   "mimetype": "text/x-python",
   "name": "python",
   "nbconvert_exporter": "python",
   "pygments_lexer": "ipython3",
   "version": "3.10.8"
  },
  "orig_nbformat": 4,
  "vscode": {
   "interpreter": {
    "hash": "e3ebeb2e6edb3209fe22dbfc9db6063817e5f9aebd5e3ed6d99351dfdcac4aac"
   }
  }
 },
 "nbformat": 4,
 "nbformat_minor": 2
}
